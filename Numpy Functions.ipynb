{
 "cells": [
  {
   "cell_type": "markdown",
   "id": "a5a4b91e",
   "metadata": {},
   "source": [
    "# Numpy functions"
   ]
  },
  {
   "cell_type": "code",
   "execution_count": 1,
   "id": "6daa5985",
   "metadata": {},
   "outputs": [],
   "source": [
    "import numpy as np"
   ]
  },
  {
   "cell_type": "markdown",
   "id": "427c66ac",
   "metadata": {},
   "source": [
    "## arange()"
   ]
  },
  {
   "cell_type": "code",
   "execution_count": 10,
   "id": "4341ef27",
   "metadata": {},
   "outputs": [
    {
     "name": "stdout",
     "output_type": "stream",
     "text": [
      "array1: [ 1  2  3  4  5  6  7  8  9 10]\n",
      "array2: [ 0  5 10 15 20 25 30 35 40 45 50]\n"
     ]
    }
   ],
   "source": [
    "#syntax - np.arrange(start, end(exclude), step)\n",
    "array1 = np.arange(1,11)\n",
    "print(\"array1:\",array1)\n",
    "array2 = np.arange(0,51,5)\n",
    "print(\"array2:\",array2)"
   ]
  },
  {
   "cell_type": "markdown",
   "id": "29837511",
   "metadata": {},
   "source": [
    "## linspace()"
   ]
  },
  {
   "cell_type": "code",
   "execution_count": 16,
   "id": "6330023a",
   "metadata": {},
   "outputs": [
    {
     "data": {
      "text/plain": [
       "array([1.  , 1.25, 1.5 , 1.75, 2.  ])"
      ]
     },
     "execution_count": 16,
     "metadata": {},
     "output_type": "execute_result"
    }
   ],
   "source": [
    "#syntax - np.linspace(start,end(include),no. of values)\n",
    "np.linspace(1,2,5)"
   ]
  },
  {
   "cell_type": "markdown",
   "id": "702f2503",
   "metadata": {},
   "source": [
    "## reshape()"
   ]
  },
  {
   "cell_type": "code",
   "execution_count": 37,
   "id": "cd6b07a8",
   "metadata": {},
   "outputs": [
    {
     "name": "stdout",
     "output_type": "stream",
     "text": [
      "1D-Array: [ 1  2  3  4  5  6  7  8  9 10 11 12]\n"
     ]
    }
   ],
   "source": [
    "#syntax - np.reshape(col,row) \n",
    "Array_1D = np.arange(1,13)\n",
    "print(\"1D-Array:\",Array_1D)\n"
   ]
  },
  {
   "cell_type": "code",
   "execution_count": 35,
   "id": "67e481dc",
   "metadata": {},
   "outputs": [
    {
     "data": {
      "text/plain": [
       "(12,)"
      ]
     },
     "execution_count": 35,
     "metadata": {},
     "output_type": "execute_result"
    }
   ],
   "source": [
    "Array_1D.shape"
   ]
  },
  {
   "cell_type": "code",
   "execution_count": 49,
   "id": "28b2c53c",
   "metadata": {},
   "outputs": [
    {
     "name": "stdout",
     "output_type": "stream",
     "text": [
      "2D-Array:\n",
      " [[ 1  2  3  4  5  6]\n",
      " [ 7  8  9 10 11 12]]\n",
      "Dim: 2\n"
     ]
    }
   ],
   "source": [
    "Array_2D = Array_1D.reshape(2,6)\n",
    "\n",
    "print(\"2D-Array:\\n\",Array_2D)\n",
    "print('Dim:',Array_2D.ndim)\n"
   ]
  },
  {
   "cell_type": "code",
   "execution_count": 51,
   "id": "d1d46053",
   "metadata": {},
   "outputs": [
    {
     "name": "stdout",
     "output_type": "stream",
     "text": [
      "3D-Array:\n",
      " [[[ 1  2]\n",
      "  [ 3  4]\n",
      "  [ 5  6]]\n",
      "\n",
      " [[ 7  8]\n",
      "  [ 9 10]\n",
      "  [11 12]]]\n",
      "Dim: 3\n"
     ]
    }
   ],
   "source": [
    "Array_3D = Array_1D.reshape(2,3,2)\n",
    "\n",
    "print(\"3D-Array:\\n\",Array_3D)\n",
    "print('Dim:',Array_3D.ndim)"
   ]
  },
  {
   "cell_type": "markdown",
   "id": "121bca82",
   "metadata": {},
   "source": [
    "## ravel()"
   ]
  },
  {
   "cell_type": "code",
   "execution_count": 54,
   "id": "97ede805",
   "metadata": {},
   "outputs": [
    {
     "name": "stdout",
     "output_type": "stream",
     "text": [
      "3D-Array:\n",
      " [[[ 1  2]\n",
      "  [ 3  4]\n",
      "  [ 5  6]]\n",
      "\n",
      " [[ 7  8]\n",
      "  [ 9 10]\n",
      "  [11 12]]]\n",
      "1D-Array:\n",
      " [ 1  2  3  4  5  6  7  8  9 10 11 12]\n"
     ]
    }
   ],
   "source": [
    "#convert multdimensional array into 1D array\n",
    "print('3D-Array:\\n',Array_3D)\n",
    "print('1D-Array:\\n',Array_3D.ravel())"
   ]
  },
  {
   "cell_type": "markdown",
   "id": "2e71b2d7",
   "metadata": {},
   "source": [
    "## flatten() "
   ]
  },
  {
   "cell_type": "code",
   "execution_count": 56,
   "id": "dec18a25",
   "metadata": {},
   "outputs": [
    {
     "data": {
      "text/plain": [
       "array([ 1,  2,  3,  4,  5,  6,  7,  8,  9, 10, 11, 12])"
      ]
     },
     "execution_count": 56,
     "metadata": {},
     "output_type": "execute_result"
    }
   ],
   "source": [
    "#convert multidensional array into 1D Array\n",
    "Array_3D.flatten()"
   ]
  },
  {
   "cell_type": "markdown",
   "id": "e88f0b27",
   "metadata": {},
   "source": [
    "## transpose() "
   ]
  },
  {
   "cell_type": "code",
   "execution_count": 58,
   "id": "7a5cd1ea",
   "metadata": {},
   "outputs": [
    {
     "data": {
      "text/plain": [
       "array([[ 1,  7],\n",
       "       [ 2,  8],\n",
       "       [ 3,  9],\n",
       "       [ 4, 10],\n",
       "       [ 5, 11],\n",
       "       [ 6, 12]])"
      ]
     },
     "execution_count": 58,
     "metadata": {},
     "output_type": "execute_result"
    }
   ],
   "source": [
    "#convert rows into columns \n",
    "Array_2D.transpose()"
   ]
  },
  {
   "cell_type": "markdown",
   "id": "0240ffa9",
   "metadata": {},
   "source": [
    "# Mathematic Operations"
   ]
  },
  {
   "cell_type": "code",
   "execution_count": 60,
   "id": "33e8034a",
   "metadata": {},
   "outputs": [
    {
     "name": "stdout",
     "output_type": "stream",
     "text": [
      "Array1:\n",
      " [[1 2 3]\n",
      " [4 5 6]\n",
      " [7 8 9]]\n",
      "Array2:\n",
      " [[ 5  6  7]\n",
      " [ 8  9 10]\n",
      " [11 12 13]]\n"
     ]
    }
   ],
   "source": [
    "array1 = np.arange(1,10).reshape(3,3)\n",
    "array2 = np.arange(5,14).reshape(3,3)\n",
    "print(\"Array1:\\n\",array1)\n",
    "print(\"Array2:\\n\",array2)"
   ]
  },
  {
   "cell_type": "code",
   "execution_count": 62,
   "id": "05d6a3e5",
   "metadata": {},
   "outputs": [
    {
     "data": {
      "text/plain": [
       "array([[ 6,  8, 10],\n",
       "       [12, 14, 16],\n",
       "       [18, 20, 22]])"
      ]
     },
     "execution_count": 62,
     "metadata": {},
     "output_type": "execute_result"
    }
   ],
   "source": [
    "# Addition\n",
    "array1 + array2"
   ]
  },
  {
   "cell_type": "code",
   "execution_count": 63,
   "id": "02d43c6b",
   "metadata": {},
   "outputs": [
    {
     "data": {
      "text/plain": [
       "array([[ 6,  8, 10],\n",
       "       [12, 14, 16],\n",
       "       [18, 20, 22]])"
      ]
     },
     "execution_count": 63,
     "metadata": {},
     "output_type": "execute_result"
    }
   ],
   "source": [
    "np.add(array1,array2)"
   ]
  },
  {
   "cell_type": "code",
   "execution_count": 64,
   "id": "2e178122",
   "metadata": {},
   "outputs": [
    {
     "data": {
      "text/plain": [
       "array([[4, 4, 4],\n",
       "       [4, 4, 4],\n",
       "       [4, 4, 4]])"
      ]
     },
     "execution_count": 64,
     "metadata": {},
     "output_type": "execute_result"
    }
   ],
   "source": [
    "# subtraction\n",
    "array2 - array1"
   ]
  },
  {
   "cell_type": "code",
   "execution_count": 66,
   "id": "2061f93c",
   "metadata": {},
   "outputs": [
    {
     "data": {
      "text/plain": [
       "array([[4, 4, 4],\n",
       "       [4, 4, 4],\n",
       "       [4, 4, 4]])"
      ]
     },
     "execution_count": 66,
     "metadata": {},
     "output_type": "execute_result"
    }
   ],
   "source": [
    "np.subtract(array2,array1)"
   ]
  },
  {
   "cell_type": "code",
   "execution_count": 71,
   "id": "52c9fd55",
   "metadata": {},
   "outputs": [
    {
     "name": "stdout",
     "output_type": "stream",
     "text": [
      "[[  5  12  21]\n",
      " [ 32  45  60]\n",
      " [ 77  96 117]]\n",
      "using function\n",
      " [[  5  12  21]\n",
      " [ 32  45  60]\n",
      " [ 77  96 117]]\n"
     ]
    }
   ],
   "source": [
    "#multiplication\n",
    "#  multiply element by element\n",
    "print(array1*array2)\n",
    "print(\"using function\\n\",np.multiply(array1,array2))"
   ]
  },
  {
   "cell_type": "code",
   "execution_count": 73,
   "id": "2dc580ef",
   "metadata": {},
   "outputs": [
    {
     "name": "stdout",
     "output_type": "stream",
     "text": [
      "[[ 54  60  66]\n",
      " [126 141 156]\n",
      " [198 222 246]]\n",
      "Using fuction\n",
      " [[ 54  60  66]\n",
      " [126 141 156]\n",
      " [198 222 246]]\n"
     ]
    }
   ],
   "source": [
    "# multiply matrix\n",
    "print(array1@array2)\n",
    "print('Using fuction\\n',np.dot(array1,array2))"
   ]
  },
  {
   "cell_type": "code",
   "execution_count": 75,
   "id": "89eda32d",
   "metadata": {},
   "outputs": [
    {
     "data": {
      "text/plain": [
       "array([[0.2       , 0.33333333, 0.42857143],\n",
       "       [0.5       , 0.55555556, 0.6       ],\n",
       "       [0.63636364, 0.66666667, 0.69230769]])"
      ]
     },
     "execution_count": 75,
     "metadata": {},
     "output_type": "execute_result"
    }
   ],
   "source": [
    "# Division\n",
    "array1/array2"
   ]
  },
  {
   "cell_type": "code",
   "execution_count": 76,
   "id": "b2f3327a",
   "metadata": {},
   "outputs": [
    {
     "data": {
      "text/plain": [
       "array([[0.2       , 0.33333333, 0.42857143],\n",
       "       [0.5       , 0.55555556, 0.6       ],\n",
       "       [0.63636364, 0.66666667, 0.69230769]])"
      ]
     },
     "execution_count": 76,
     "metadata": {},
     "output_type": "execute_result"
    }
   ],
   "source": [
    "np.divide(array1,array2)"
   ]
  },
  {
   "cell_type": "code",
   "execution_count": 82,
   "id": "01840995",
   "metadata": {},
   "outputs": [
    {
     "name": "stdout",
     "output_type": "stream",
     "text": [
      "max: 9\n",
      "min: 1\n"
     ]
    }
   ],
   "source": [
    "# find maximun/min values\n",
    "#  a) from array\n",
    "print(\"max:\",array1.max())\n",
    "print('min:',array1.min())"
   ]
  },
  {
   "cell_type": "code",
   "execution_count": 83,
   "id": "0c9603d8",
   "metadata": {},
   "outputs": [
    {
     "name": "stdout",
     "output_type": "stream",
     "text": [
      "max of columns: [7 8 9]\n",
      "min of columns: [1 2 3]\n"
     ]
    }
   ],
   "source": [
    "#  b) from columns\n",
    "print(\"max of columns:\",array1.max(axis = 0))\n",
    "print('min of columns:',array1.min(axis = 0))"
   ]
  },
  {
   "cell_type": "code",
   "execution_count": 84,
   "id": "1fe417d6",
   "metadata": {},
   "outputs": [
    {
     "name": "stdout",
     "output_type": "stream",
     "text": [
      "max of rows: [3 6 9]\n",
      "min of rows: [1 4 7]\n"
     ]
    }
   ],
   "source": [
    "# from rows\n",
    "print(\"max of rows:\",array1.max(axis=1))\n",
    "print('min of rows:',array1.min(axis=1))"
   ]
  },
  {
   "cell_type": "code",
   "execution_count": 87,
   "id": "8f3ed85b",
   "metadata": {},
   "outputs": [
    {
     "name": "stdout",
     "output_type": "stream",
     "text": [
      "columns sum: [12 15 18]\n",
      "rows sum: [ 6 15 24]\n",
      "array's elements sum: 45\n"
     ]
    }
   ],
   "source": [
    "# sum of elements\n",
    "print(\"columns sum:\", array1.sum(axis=0))\n",
    "print('rows sum:', array1.sum(axis=1))\n",
    "print(\"array's elements sum:\",array1.sum())"
   ]
  },
  {
   "cell_type": "code",
   "execution_count": 91,
   "id": "6f23b262",
   "metadata": {},
   "outputs": [
    {
     "name": "stdout",
     "output_type": "stream",
     "text": [
      "average: 5.0\n",
      "rows average: [2. 5. 8.]\n",
      "columns average: [4. 5. 6.]\n"
     ]
    }
   ],
   "source": [
    "# average\n",
    "print('average:',array1.mean())\n",
    "print('rows average:', array1.mean(axis=1))\n",
    "print('columns average:', array1.mean(axis=0))"
   ]
  },
  {
   "cell_type": "markdown",
   "id": "7ee96b9d",
   "metadata": {},
   "source": [
    "# Slicing"
   ]
  },
  {
   "cell_type": "code",
   "execution_count": 93,
   "id": "a7d525e5",
   "metadata": {},
   "outputs": [
    {
     "data": {
      "text/plain": [
       "array([[  1,   2,   3,   4,   5,   6,   7,   8,   9,  10],\n",
       "       [ 11,  12,  13,  14,  15,  16,  17,  18,  19,  20],\n",
       "       [ 21,  22,  23,  24,  25,  26,  27,  28,  29,  30],\n",
       "       [ 31,  32,  33,  34,  35,  36,  37,  38,  39,  40],\n",
       "       [ 41,  42,  43,  44,  45,  46,  47,  48,  49,  50],\n",
       "       [ 51,  52,  53,  54,  55,  56,  57,  58,  59,  60],\n",
       "       [ 61,  62,  63,  64,  65,  66,  67,  68,  69,  70],\n",
       "       [ 71,  72,  73,  74,  75,  76,  77,  78,  79,  80],\n",
       "       [ 81,  82,  83,  84,  85,  86,  87,  88,  89,  90],\n",
       "       [ 91,  92,  93,  94,  95,  96,  97,  98,  99, 100]])"
      ]
     },
     "execution_count": 93,
     "metadata": {},
     "output_type": "execute_result"
    }
   ],
   "source": [
    "matrix = np.arange(1,101).reshape(10,10)\n",
    "matrix"
   ]
  },
  {
   "cell_type": "code",
   "execution_count": 100,
   "id": "ec233e59",
   "metadata": {},
   "outputs": [
    {
     "data": {
      "text/plain": [
       "2"
      ]
     },
     "execution_count": 100,
     "metadata": {},
     "output_type": "execute_result"
    }
   ],
   "source": [
    "# dimension\n",
    "matrix.ndim"
   ]
  },
  {
   "cell_type": "code",
   "execution_count": 101,
   "id": "b773340c",
   "metadata": {},
   "outputs": [
    {
     "data": {
      "text/plain": [
       "1"
      ]
     },
     "execution_count": 101,
     "metadata": {},
     "output_type": "execute_result"
    }
   ],
   "source": [
    "# obtained 1st element\n",
    "matrix[0,0]"
   ]
  },
  {
   "cell_type": "code",
   "execution_count": 107,
   "id": "d2c44dba",
   "metadata": {},
   "outputs": [
    {
     "data": {
      "text/plain": [
       "array([21, 22, 23, 24, 25, 26, 27, 28, 29, 30])"
      ]
     },
     "execution_count": 107,
     "metadata": {},
     "output_type": "execute_result"
    }
   ],
   "source": [
    "# obtained 3rd rows elements\n",
    "matrix[2]"
   ]
  },
  {
   "cell_type": "code",
   "execution_count": 105,
   "id": "ab835eac",
   "metadata": {},
   "outputs": [
    {
     "data": {
      "text/plain": [
       "array([[ 5],\n",
       "       [15],\n",
       "       [25],\n",
       "       [35],\n",
       "       [45],\n",
       "       [55],\n",
       "       [65],\n",
       "       [75],\n",
       "       [85],\n",
       "       [95]])"
      ]
     },
     "execution_count": 105,
     "metadata": {},
     "output_type": "execute_result"
    }
   ],
   "source": [
    "# obtained 5th col elements\n",
    "matrix[:,4:5]"
   ]
  },
  {
   "cell_type": "code",
   "execution_count": 112,
   "id": "098eee71",
   "metadata": {},
   "outputs": [
    {
     "name": "stdout",
     "output_type": "stream",
     "text": [
      "matrix [[  1   2   3   4   5   6   7   8   9  10]\n",
      " [ 11  12  13  14  15  16  17  18  19  20]\n",
      " [ 21  22  23  24  25  26  27  28  29  30]\n",
      " [ 31  32  33  34  35  36  37  38  39  40]\n",
      " [ 41  42  43  44  45  46  47  48  49  50]\n",
      " [ 51  52  53  54  55  56  57  58  59  60]\n",
      " [ 61  62  63  64  65  66  67  68  69  70]\n",
      " [ 71  72  73  74  75  76  77  78  79  80]\n",
      " [ 81  82  83  84  85  86  87  88  89  90]\n",
      " [ 91  92  93  94  95  96  97  98  99 100]]\n"
     ]
    },
    {
     "data": {
      "text/plain": [
       "array([[ 1,  2,  3],\n",
       "       [11, 12, 13],\n",
       "       [21, 22, 23]])"
      ]
     },
     "execution_count": 112,
     "metadata": {},
     "output_type": "execute_result"
    }
   ],
   "source": [
    "# obtained  rows elements of 1st-three row and last 1st-three columns elements\n",
    "print(\"matrix\",matrix)\n",
    "matrix[0:3,0:3]"
   ]
  },
  {
   "cell_type": "code",
   "execution_count": 114,
   "id": "52fe966e",
   "metadata": {},
   "outputs": [
    {
     "data": {
      "text/plain": [
       "dtype('int32')"
      ]
     },
     "execution_count": 114,
     "metadata": {},
     "output_type": "execute_result"
    }
   ],
   "source": [
    "# find element datatype\n",
    "matrix.dtype"
   ]
  },
  {
   "cell_type": "code",
   "execution_count": 113,
   "id": "de77b473",
   "metadata": {},
   "outputs": [
    {
     "data": {
      "text/plain": [
       "4"
      ]
     },
     "execution_count": 113,
     "metadata": {},
     "output_type": "execute_result"
    }
   ],
   "source": [
    "# find itemsize \n",
    "matrix.itemsize"
   ]
  },
  {
   "cell_type": "markdown",
   "id": "c774da88",
   "metadata": {},
   "source": [
    "# Concatination and split"
   ]
  },
  {
   "cell_type": "code",
   "execution_count": 119,
   "id": "de1a6f58",
   "metadata": {},
   "outputs": [
    {
     "name": "stdout",
     "output_type": "stream",
     "text": [
      "array1\n",
      " [[1 2 3]\n",
      " [4 5 6]\n",
      " [7 8 9]]\n",
      "array2\n",
      " [[ 5  6  7]\n",
      " [ 8  9 10]\n",
      " [11 12 13]]\n"
     ]
    }
   ],
   "source": [
    "print('array1\\n',array1)\n",
    "print('array2\\n',array2)"
   ]
  },
  {
   "cell_type": "code",
   "execution_count": 126,
   "id": "3fa22599",
   "metadata": {},
   "outputs": [
    {
     "name": "stdout",
     "output_type": "stream",
     "text": [
      "[[ 1  2  3]\n",
      " [ 4  5  6]\n",
      " [ 7  8  9]\n",
      " [ 5  6  7]\n",
      " [ 8  9 10]\n",
      " [11 12 13]]\n"
     ]
    },
    {
     "data": {
      "text/plain": [
       "array([[ 1,  2,  3],\n",
       "       [ 4,  5,  6],\n",
       "       [ 7,  8,  9],\n",
       "       [ 5,  6,  7],\n",
       "       [ 8,  9, 10],\n",
       "       [11, 12, 13]])"
      ]
     },
     "execution_count": 126,
     "metadata": {},
     "output_type": "execute_result"
    }
   ],
   "source": [
    "# concatenate along column\n",
    "print(np.concatenate((array1,array2), axis =0))\n",
    "np.vstack((array1,array2))"
   ]
  },
  {
   "cell_type": "code",
   "execution_count": 129,
   "id": "107bebc7",
   "metadata": {},
   "outputs": [
    {
     "name": "stdout",
     "output_type": "stream",
     "text": [
      "[[ 1  2  3  5  6  7]\n",
      " [ 4  5  6  8  9 10]\n",
      " [ 7  8  9 11 12 13]]\n"
     ]
    },
    {
     "data": {
      "text/plain": [
       "array([[ 1,  2,  3,  5,  6,  7],\n",
       "       [ 4,  5,  6,  8,  9, 10],\n",
       "       [ 7,  8,  9, 11, 12, 13]])"
      ]
     },
     "execution_count": 129,
     "metadata": {},
     "output_type": "execute_result"
    }
   ],
   "source": [
    "# concatenate along row\n",
    "print(np.concatenate((array1,array2), axis =1))\n",
    "np.hstack((array1,array2))"
   ]
  },
  {
   "cell_type": "code",
   "execution_count": 130,
   "id": "fa9a55a4",
   "metadata": {},
   "outputs": [
    {
     "data": {
      "text/plain": [
       "array([[1, 2, 3],\n",
       "       [4, 5, 6],\n",
       "       [7, 8, 9]])"
      ]
     },
     "execution_count": 130,
     "metadata": {},
     "output_type": "execute_result"
    }
   ],
   "source": [
    "# split\n",
    "array1"
   ]
  },
  {
   "cell_type": "code",
   "execution_count": 132,
   "id": "3433e848",
   "metadata": {},
   "outputs": [
    {
     "data": {
      "text/plain": [
       "[array([[1, 2, 3]]), array([[4, 5, 6]]), array([[7, 8, 9]])]"
      ]
     },
     "execution_count": 132,
     "metadata": {},
     "output_type": "execute_result"
    }
   ],
   "source": [
    "np.split(array1,3)"
   ]
  },
  {
   "cell_type": "code",
   "execution_count": 133,
   "id": "b3af6f10",
   "metadata": {},
   "outputs": [
    {
     "data": {
      "text/plain": [
       "[array([[1],\n",
       "        [4],\n",
       "        [7]]),\n",
       " array([[2],\n",
       "        [5],\n",
       "        [8]]),\n",
       " array([[3],\n",
       "        [6],\n",
       "        [9]])]"
      ]
     },
     "execution_count": 133,
     "metadata": {},
     "output_type": "execute_result"
    }
   ],
   "source": [
    "np.split(array1,3,axis=1)"
   ]
  },
  {
   "cell_type": "markdown",
   "id": "5c2c9fe3",
   "metadata": {},
   "source": [
    "# random sampling using numpy"
   ]
  },
  {
   "cell_type": "code",
   "execution_count": 134,
   "id": "708f0ef3",
   "metadata": {},
   "outputs": [],
   "source": [
    "import random"
   ]
  },
  {
   "cell_type": "code",
   "execution_count": 139,
   "id": "2a5ed8fe",
   "metadata": {},
   "outputs": [
    {
     "data": {
      "text/plain": [
       "array([[0.09939102, 0.71176699, 0.23332574],\n",
       "       [0.46870625, 0.28935464, 0.66418522]])"
      ]
     },
     "execution_count": 139,
     "metadata": {},
     "output_type": "execute_result"
    }
   ],
   "source": [
    "# generate array having element values b/w 0 & 1\n",
    "# syntax np.random.random((shape))\n",
    "np.random.random((2,3))"
   ]
  },
  {
   "cell_type": "code",
   "execution_count": 142,
   "id": "cdebf413",
   "metadata": {},
   "outputs": [
    {
     "data": {
      "text/plain": [
       "array([[3, 3, 2],\n",
       "       [2, 3, 2],\n",
       "       [3, 1, 1]])"
      ]
     },
     "execution_count": 142,
     "metadata": {},
     "output_type": "execute_result"
    }
   ],
   "source": [
    "# generate array having element values in integers\n",
    "#  syntax- np.random.randint(start,end_ex.,(shape))\n",
    "np.random.randint(1,4,(3,3))"
   ]
  },
  {
   "cell_type": "code",
   "execution_count": 144,
   "id": "853fecdf",
   "metadata": {},
   "outputs": [
    {
     "name": "stdout",
     "output_type": "stream",
     "text": [
      "[[1 2 3]\n",
      " [4 5 6]\n",
      " [7 8 9]]\n"
     ]
    },
    {
     "data": {
      "text/plain": [
       "array([[7, 8, 9],\n",
       "       [1, 2, 3],\n",
       "       [4, 5, 6]])"
      ]
     },
     "execution_count": 144,
     "metadata": {},
     "output_type": "execute_result"
    }
   ],
   "source": [
    "# suffling\n",
    "print(array1)\n",
    "np.random.permutation(array1)"
   ]
  },
  {
   "cell_type": "code",
   "execution_count": 145,
   "id": "ad9bfd17",
   "metadata": {},
   "outputs": [
    {
     "data": {
      "text/plain": [
       "array([[7, 8, 9],\n",
       "       [4, 5, 6],\n",
       "       [1, 2, 3]])"
      ]
     },
     "execution_count": 145,
     "metadata": {},
     "output_type": "execute_result"
    }
   ],
   "source": [
    "np.random.permutation(array1)"
   ]
  },
  {
   "cell_type": "code",
   "execution_count": 146,
   "id": "ca5b1734",
   "metadata": {},
   "outputs": [
    {
     "data": {
      "text/plain": [
       "array([[7, 8, 9],\n",
       "       [1, 2, 3],\n",
       "       [4, 5, 6]])"
      ]
     },
     "execution_count": 146,
     "metadata": {},
     "output_type": "execute_result"
    }
   ],
   "source": [
    "np.random.permutation(array1)"
   ]
  },
  {
   "cell_type": "code",
   "execution_count": 147,
   "id": "e4547c4a",
   "metadata": {},
   "outputs": [
    {
     "data": {
      "text/plain": [
       "array([[7, 8, 9],\n",
       "       [4, 5, 6],\n",
       "       [1, 2, 3]])"
      ]
     },
     "execution_count": 147,
     "metadata": {},
     "output_type": "execute_result"
    }
   ],
   "source": [
    "np.random.permutation(array1)"
   ]
  },
  {
   "cell_type": "code",
   "execution_count": 148,
   "id": "d2e46693",
   "metadata": {},
   "outputs": [
    {
     "name": "stdout",
     "output_type": "stream",
     "text": [
      "[[1 2 3]\n",
      " [7 8 9]\n",
      " [4 5 6]]\n",
      "[[4 5 6]\n",
      " [7 8 9]\n",
      " [1 2 3]]\n",
      "[[4 5 6]\n",
      " [1 2 3]\n",
      " [7 8 9]]\n",
      "[[1 2 3]\n",
      " [7 8 9]\n",
      " [4 5 6]]\n",
      "[[1 2 3]\n",
      " [7 8 9]\n",
      " [4 5 6]]\n",
      "[[1 2 3]\n",
      " [7 8 9]\n",
      " [4 5 6]]\n",
      "[[7 8 9]\n",
      " [1 2 3]\n",
      " [4 5 6]]\n",
      "[[7 8 9]\n",
      " [1 2 3]\n",
      " [4 5 6]]\n",
      "[[1 2 3]\n",
      " [7 8 9]\n",
      " [4 5 6]]\n",
      "[[7 8 9]\n",
      " [1 2 3]\n",
      " [4 5 6]]\n"
     ]
    }
   ],
   "source": [
    "for i in range(10):\n",
    "    print(np.random.permutation(array1))"
   ]
  },
  {
   "cell_type": "code",
   "execution_count": 164,
   "id": "bbd0a4be",
   "metadata": {},
   "outputs": [
    {
     "data": {
      "text/plain": [
       "array([[0, 1],\n",
       "       [2, 3],\n",
       "       [4, 5],\n",
       "       [6, 7],\n",
       "       [8, 9]])"
      ]
     },
     "execution_count": 164,
     "metadata": {},
     "output_type": "execute_result"
    }
   ],
   "source": [
    "arr=np.arange(0,10).reshape(5,2)\n",
    "arr"
   ]
  },
  {
   "cell_type": "code",
   "execution_count": 165,
   "id": "1ff8b5c3",
   "metadata": {},
   "outputs": [],
   "source": [
    "random.shuffle(arr)\n",
    "\n"
   ]
  },
  {
   "cell_type": "code",
   "execution_count": 166,
   "id": "eef4aaed",
   "metadata": {},
   "outputs": [
    {
     "data": {
      "text/plain": [
       "array([[0, 1],\n",
       "       [2, 3],\n",
       "       [2, 3],\n",
       "       [0, 1],\n",
       "       [6, 7]])"
      ]
     },
     "execution_count": 166,
     "metadata": {},
     "output_type": "execute_result"
    }
   ],
   "source": [
    "arr"
   ]
  },
  {
   "cell_type": "code",
   "execution_count": null,
   "id": "03b43a6a",
   "metadata": {},
   "outputs": [],
   "source": []
  }
 ],
 "metadata": {
  "kernelspec": {
   "display_name": "Python 3 (ipykernel)",
   "language": "python",
   "name": "python3"
  },
  "language_info": {
   "codemirror_mode": {
    "name": "ipython",
    "version": 3
   },
   "file_extension": ".py",
   "mimetype": "text/x-python",
   "name": "python",
   "nbconvert_exporter": "python",
   "pygments_lexer": "ipython3",
   "version": "3.9.12"
  }
 },
 "nbformat": 4,
 "nbformat_minor": 5
}
